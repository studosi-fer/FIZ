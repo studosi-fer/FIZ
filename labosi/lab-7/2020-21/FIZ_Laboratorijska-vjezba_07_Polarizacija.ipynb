{
 "cells": [
  {
   "cell_type": "markdown",
   "metadata": {},
   "source": [
    "<img src=\"../Favorites/logo-lab-Fizika.jpeg\" style=\"height: 90px;\">\n",
    "\n",
    "\n",
    "## Vježba 2-3: Polarizacija svjetlosti\n",
    "\n",
    "* Istražuje se ovisnost intenziteta polarizirane svjetlosti o kutu između polarizacije snopa i zakreta polarizatora (Malusov zakon).\n",
    "* Traži se kut refleksije za koji je stupanj polarizacije reflektiranog snopa najveći.\n",
    "* Traži se stupanj polarizacije reflektiranog i transmitiranog snopa za zadani kut refleksije."
   ]
  },
  {
   "cell_type": "code",
   "execution_count": null,
   "metadata": {},
   "outputs": [],
   "source": [
    "%matplotlib inline\n",
    "import numpy as np; import matplotlib.pyplot as plt\n",
    "from numpy.polynomial import Polynomial; from scipy.optimize import curve_fit\n",
    "import warnings; warnings.filterwarnings(\"ignore\")\n",
    "plt.rc('font', size=14); plt.rc('axes', titlesize=14)"
   ]
  },
  {
   "cell_type": "markdown",
   "metadata": {},
   "source": [
    "### 1. Mjerenje zavisnosti toka svjetlosti o međusobnoj orijentaciji dva polarizatora\n",
    "\n",
    "Postavite polarizator P1 u proizvoljnu orijentaciju. Zatim postavite polarizator P2 (analizator) i mijenjajte mu kut orijentacije prema uputama (zadanim koracima) iz skripte.\n",
    "\n",
    "Unesite svoje podatke za:\n",
    "* kut drugog polarizatora `x_podatci`\n",
    "* intenzitet očitan na instrumentu `y_podatci` (**u proizvoljnim jedinicama, p.j.**)\n",
    "* rezoluciju instrumenta `rezolucija_instrumenta`\n",
    "\n",
    "**Rezolucija instrumenta** se ovdje odnosi samo na mjerenja intenziteta. Procjenite ju iz fluktuacija mjerenja dok ne mijenjate postavke uređaja. Dodatno, možete malo promijeniti orijentaciju analizatora, unutar nepreciznosti postavljanja na zadani kut, i očitati za koliko se mijenja intenzitet. Uzmite najveću od ove dvije vrijednosti."
   ]
  },
  {
   "cell_type": "code",
   "execution_count": null,
   "metadata": {},
   "outputs": [],
   "source": [
    "# OVDJE UPIŠITE SVOJE MJERENE PODATKE -----------------------------\n",
    "x_podatci = np.array([10,20,30,40,50,60,70,80,90,100,110,120,130,140,150,160,170,180,200,220,240,260,280,300,320,340])\n",
    "y_podatci = np.array([652, 580,484, 384, 265, 160,75, 29 , 12, 28, 83, 174, 268, 395, 515, 612, 676, 700, 620, 410, 170, 29, 32, 175, 400, 598])  # Vaši podatci\n",
    "rezolucija_instrumenta = 2  # Vaši podatci\n",
    "\n",
    "# DALJE NISU POTREBNE IZMJENE ! -----------------------------\n",
    "s_y = rezolucija_instrumenta/np.sqrt(12); print(\"nesigurnost u_y = \", s_y)\n",
    "fig, ax = plt.subplots(figsize=(8,4))\n",
    "ax.errorbar(x_podatci,y_podatci,yerr=s_y,fmt=\"o\",label='podatci')\n",
    "ax.set(xlabel='$\\\\theta$ (deg)',ylabel='Intenzitet (proizvoljne jedinice)')\n",
    "ax.legend(loc='best')\n",
    "plt.show()\n",
    "plt.close(fig)"
   ]
  },
  {
   "cell_type": "markdown",
   "metadata": {},
   "source": [
    "#### 1.1. Može li se ova krivulja opisati ovisnošću intenziteta ($y$) o kosinusu kuta ($x =\\cos\\theta$ )?\n",
    "Model:  $y(\\theta) = a + b \\cos\\theta$"
   ]
  },
  {
   "cell_type": "code",
   "execution_count": null,
   "metadata": {},
   "outputs": [],
   "source": [
    "# ------ NISU POTREBNE IZMJENE ! -----------------------------\n",
    "def func(x, a, b, c):\n",
    "  return a + b*np.sin(np.deg2rad(x+c))\n",
    "\n",
    "x = x_podatci\n",
    "ppocetni =[100,300,90]\n",
    "popt, pcov = curve_fit(func, x,y_podatci,p0=ppocetni)\n",
    "fig, ax = plt.subplots(figsize=(10,5))\n",
    "ax.errorbar(x,y_podatci,yerr=s_y,fmt=\"o\",label='podatci')\n",
    "tmpx=np.linspace(min(x),max(x),100)\n",
    "plt.plot(tmpx, func(tmpx, *popt), '-', label=\"$y(\\\\theta) = a + b\\, \\cos\\\\theta$\")\n",
    "ax.set(xlabel='$\\\\theta$ (deg)',ylabel='Intenzitet (p. j.)')\n",
    "ax.legend(loc='best')\n",
    "plt.show()\n",
    "plt.close(fig)\n",
    "chi2 = np.sum(((func(x,*popt) - y_podatci)/s_y)**2)\n",
    "dof = len(x) - len(popt)\n",
    "print(\"chi2 = \",chi2,\"  dof=\", dof, \",   chi2/d.o.f.=\",chi2/dof)\n",
    "imena = [\"a\",\"b\",\"faza\"]\n",
    "for i in range(3):\n",
    "    print (imena[i],\"=\",popt[i],\"±\" ,np.sqrt(np.diag(pcov)[i]))"
   ]
  },
  {
   "cell_type": "markdown",
   "metadata": {},
   "source": [
    "** Ovo ne izgleda dobro?!**\n",
    "\n",
    "\n",
    "--> Očito je da ovisnost o kosinusu kuta ne može opisati ovu krivulju. \n",
    "ALI, očito je i da ako dozvolimo višu 'frekvenciju' da bi mogli ovu ovisnost \n",
    "opisati nekom harmonijskom funkcijom. \n",
    "\n",
    "Prema trigonometrijskim identitetima, kosinus dvostrukog kuta je povezan s kvadratom \n",
    "kosinusa, pa nas to vodi na Malusov zakon koji razmatramo u sljedećem dijelu vježbe.\n",
    "\n",
    "$\\cos (2 \\beta) = 2 \\cos^2 \\beta -1 $"
   ]
  },
  {
   "cell_type": "markdown",
   "metadata": {},
   "source": [
    "#### 1.2. Može li se ova krivulja opisati ovisnošću intenziteta ($y$) o kvadratu kosinusa kuta ($\\cos^2\\theta$ )?\n",
    "Model:  $y(\\theta) = a + b \\cos (\\theta -\\phi_0) + c \\cos^2 (\\theta -\\phi_0)$\n",
    "\n",
    "Parametar $b$ koji množi dio s linearnom ovisnosti o kutu bi trebao biti blizu nule, odnosno interval nesigurnosti oko tog parametra bi trebao sadržavati nulu."
   ]
  },
  {
   "cell_type": "code",
   "execution_count": null,
   "metadata": {},
   "outputs": [],
   "source": [
    "# ------ NISU POTREBNE IZMJENE ! -----------------------------\n",
    "def func2(x, a, b, c, d):\n",
    "    x_s_fazom = x-d\n",
    "    return a + b*np.cos(np.deg2rad(x_s_fazom)) + c*np.cos(np.deg2rad(x_s_fazom))**2\n",
    "\n",
    "x = x_podatci\n",
    "ppocetni =[100,0,250,80]  # POČETNI PARAMETRI ZA PRILAGODBU -- ako je loša prilagodba, popravite ovdje\n",
    "popt, pcov = curve_fit(func2, x,y_podatci,p0=ppocetni)\n",
    "fig, ax = plt.subplots(figsize=(10,5))\n",
    "ax.errorbar(x,y_podatci,yerr=s_y,fmt=\"o\",label='podatci')\n",
    "tmpx=np.linspace(min(x),max(x),100)\n",
    "plt.plot(tmpx, func2(tmpx, *popt), '-', label=\"$y(\\\\theta) = a + b\\cdot \\cos(\\\\theta-\\phi_0) + c\\cdot \\cos^2(\\\\theta-\\phi_0)$\")\n",
    "ax.set(xlabel='$\\\\theta$ (deg)',ylabel='Intenzitet (proizvoljne jedinice)')\n",
    "ax.legend(loc='best')\n",
    "plt.show()\n",
    "plt.close(fig)\n",
    "chi2 = np.sum(((func2(x,*popt) - y_podatci)/s_y)**2)\n",
    "dof = len(x) - len(popt)\n",
    "print(\"chi2 = \",chi2,\"  dof=\", dof, \",   chi2/d.o.f.=\",chi2/dof)\n",
    "imena = [\"a\",\"b\",\"c\",\"faza\"]; jedinice = [\"p.j.\",\"p.j.\",\"p.j.\",\"deg\"]\n",
    "for i in range(4):\n",
    "    print (imena[i],\"=\",popt[i],\"±\" ,np.sqrt(np.diag(pcov)[i]),\" \",jedinice[i])"
   ]
  },
  {
   "cell_type": "markdown",
   "metadata": {},
   "source": [
    "<div style =  \"background-color:#cce698\">\n",
    "**Razmislite i diskutirajte s asistenotm:**\n",
    "<ul>\n",
    "<li> Koji parametar opisuje ambijentalno osvjetljenje?\n",
    "<li>Koji parametar bi opisao polaganu vremenski ovisnu promjenu ambijentalnog osvjetljenja?\n",
    "<li> Koje je značenje faze $\\phi_0$ u funkciji prilagodbe?\n",
    "<li> Izraženo pomoću kuta orijentacije analizatora (P2), koji je smjer polarizacije snopa nakon polarizatora P1?\n",
    "</ul>\n",
    "</div>"
   ]
  },
  {
   "cell_type": "markdown",
   "metadata": {},
   "source": [
    "### 2. Mjerenje stupnja polarizacije reflektiranog snopa u ovisnosti o upadnom kutu\n",
    "\n",
    "Prema uputama u skripti dodajte nosač staklene pločice, dvije zastavice i staklenu pločicu. Prema uputama (vrijednosti u tablici) mijenjajte kut zakreta staklene pločice $\\phi$. Kut refleksije $\\theta = 90 - \\phi$ će biti automatski izračunat.\n",
    "\n",
    ".\n",
    "\n",
    "<div style =  \"background-color:#cce698\">\n",
    "**Zadatak**: Unesite svoje podatke za\n",
    "\n",
    "<ul>\n",
    "<li> kut zakreta staklene pločice   `kut_mjer`,\n",
    "<li> najveći mjereni intenzitet za taj kut zakreta  `Imax`,\n",
    "<li> njamanji mjereni intenzitet za taj kut zakreta   `Imin`,\n",
    "<li>rezoluciju instrumenta (prijamnika)   `rezolucija_instrumenta` (postupak isti kao u prvom dijelu).\n",
    "</ul>\n",
    "</div>"
   ]
  },
  {
   "cell_type": "code",
   "execution_count": null,
   "metadata": {},
   "outputs": [],
   "source": [
    "# OVDJE UPIŠITE SVOJE PODATKE\n",
    "kut_mjer = np.array([10, 20, 30, 40, 45, 50, 55, 60, 70])\n",
    "Imin     = np.array([253,39,4,9,11,17,19,24,2]) # Vaši podatci\n",
    "Imax     = np.array([570,295,156,103,76,62,51,49,5]) # Vaši podatci\n",
    "rezolucija_instrumenta = 4 # Vaši podatci\n",
    "\n",
    "# DALJE NISU POTREBNE IZMJENE ! -----------------------------\n",
    "s_y = rezolucija_instrumenta/np.sqrt(24); print(\"u_y = \", s_y) # nesigurnost otklona\n",
    "kut = 90-kut_mjer\n",
    "# Crtamo podatke\n",
    "fig, ax = plt.subplots(figsize=(9,5))\n",
    "ax.errorbar(kut,Imin,yerr=s_y,fmt=\"o--\",label='$I_\\mathrm{min}$',lw=1)\n",
    "ax.errorbar(kut,Imax,yerr=s_y,fmt=\"o--\",label='$I_\\mathrm{max}$',lw=1)\n",
    "ax.set(xlabel='$\\\\theta$ (deg)', ylabel='Intenzitet (p. j.)')\n",
    "ax.legend(loc='best')\n",
    "plt.show()\n",
    "plt.close(fig)"
   ]
  },
  {
   "cell_type": "markdown",
   "metadata": {},
   "source": [
    "##### Stupanj polarizacije snopa\n",
    "\n",
    "Stupanj polarizacije snopa može se izračunati iz maksimalne i minimalne vrijednosti intenziteta koja je propuštena kroz polarizator:\n",
    "\n",
    "$V  = \\frac{I_\\mathrm{max} - I_\\mathrm{min}}{I_\\mathrm{max} + I_\\mathrm{min}}\\cdot 100 \\, (\\%)$\n",
    "\n",
    "Iz prethodnih mjerenja crtamo stupanj polarizacije u ovisnosti o kutu upada."
   ]
  },
  {
   "cell_type": "code",
   "execution_count": null,
   "metadata": {},
   "outputs": [],
   "source": [
    "#  NISU POTREBNE IZMJENE ! -----------------------------\n",
    "s_y = rezolucija_instrumenta/np.sqrt(24); print(\"u_y = \", s_y) # nesigurnost otklona\n",
    "fig, ax = plt.subplots(figsize=(9,5))\n",
    "StupPolar  = (Imax - Imin)/(Imax + Imin)*100\n",
    "ax.errorbar(kut,StupPolar,yerr=s_y,fmt=\"o--\",lw=0.5)\n",
    "ax.set(xlabel='$\\\\theta$ (deg)',ylabel='Stupanj polarizacije $V$ (%)')\n",
    "plt.show()\n",
    "plt.close(fig)"
   ]
  },
  {
   "cell_type": "code",
   "execution_count": null,
   "metadata": {
    "scrolled": true
   },
   "outputs": [],
   "source": [
    "#  NISU POTREBNE IZMJENE ! -----------------------------\n",
    "StupanjPolinoma = 3\n",
    "x = np.linspace(np.min(kut),np.max(kut),100)\n",
    "x_podatci = kut\n",
    "y_podatci = StupPolar\n",
    "parametri, kovarijanca = np.polyfit(x_podatci,y_podatci,StupanjPolinoma, cov=True)\n",
    "TT = np.vstack([x**(StupanjPolinoma-i) for i in range(StupanjPolinoma+1)]).T\n",
    "yi = np.dot(TT, parametri)  # matrix multiplication calculates the polynomial values\n",
    "C_yi = np.dot(TT, np.dot(kovarijanca, TT.T)) # C_y = TT*C_z*TT.T\n",
    "sig_yi = np.sqrt(np.diag(C_yi))  # Standard deviations are sqrt of diagonal\n",
    "fig, ax = plt.subplots(figsize=(10,5))\n",
    "polinom = np.poly1d(parametri)\n",
    "ax.fill_between(x, yi+sig_yi, yi-sig_yi, alpha=.25,label='područje nesigurnosti modela')\n",
    "ax.plot(x,polinom(x), \"--\",linewidth=2, label='model', zorder=10)\n",
    "ax.errorbar(x_podatci,y_podatci,yerr=s_y,fmt=\"ro\",label='podatci')\n",
    "ax.set(xlabel='$\\\\theta$ ($^o$)', ylabel='V (%)')\n",
    "ax.legend(loc='best')\n",
    "plt.show()\n",
    "plt.close(fig)\n",
    "# Izračunajte i ispišite chi2 i reducirani chi2\n",
    "chi2 = np.sum(((polinom(x_podatci) - y_podatci)/s_y)**2)\n",
    "dof = len(x_podatci) - StupanjPolinoma - 1\n",
    "print(\"chi2 = \",chi2,\"  dof=\", dof, \",   chi2/d.o.f.=\",chi2/dof)\n",
    "print(\"polinom:\\n\",np.poly1d(parametri)) # Ovako izgleda taj polinom\n",
    "for ids,pari in enumerate(parametri):\n",
    "    stupanj = len(parametri)-ids-1\n",
    "    print (\"potencija = %d, p[%d] = %f, u(p%d) = %f, u(p%d)/p[%d]= %f\"%(stupanj, stupanj, pari, stupanj, np.sqrt(kovarijanca[ids][ids]),stupanj,stupanj,np.abs(np.sqrt(kovarijanca[ids][ids])/pari)))"
   ]
  },
  {
   "cell_type": "markdown",
   "metadata": {},
   "source": [
    "--> Nesigurnosti parametara su obično velike i međusobna ovisnost parametara je velika. **NEMOJTE numerički raditi procjenu nesigurnosti položaja minimuma**, napravite ju vizualnom procjenom s gornjeg grafa!"
   ]
  },
  {
   "cell_type": "markdown",
   "metadata": {},
   "source": [
    "<div style =  \"background-color:#cce698\">\n",
    "**Zadatak**: \n",
    "<ul>\n",
    "<li> Iz rezultata prilagodbe (polinom) izračunajte kut za koji krivulja stupnja polarizacije ima maksimum. Izračunajte nesigurnost dobivene vrijednosti.\n",
    "<li>  Iz izračunatog kuta pri kojem je polarizacija maksimalna, izračunajte indeks loma materijala od kojeg je načinjena staklena pločica. Izračunajte nesigurnost indeksa loma.\n",
    "</ul>\n",
    "</div>"
   ]
  },
  {
   "cell_type": "markdown",
   "metadata": {},
   "source": [
    "### 3. Mjerenje stupnja polarizacije propuštenog snopa\n",
    "\n",
    "<div style =  \"background-color:#cce698\">\n",
    "**Zadatak**: \n",
    "<ul>\n",
    "<li> Prema uputama asistenta, namjestite staklenu pločicu na zadani kut.\n",
    "<li> Postavite, kao u prethodnom dijelu vježbe, uređaj tako da mjerite reflektirani snop.\n",
    "<li> Mijenjajući orijentaciju polarizatora, za zadani kut izmjerite najveći i najmanji intenzitet reflektiranog snopa. Upišite ih dolje ( `Imin_za_zadani` i  `Imax_za_zadani`). \n",
    "<li> Napišite dolje formulu za `V_za_zadani` pomoću koje ćete iz mjerenih `Imin_za_zadani` i  `Imax_za_zadani` izračunati stupanj polarizacije u postotcima (izraz 2.30 u skripti). Nemojte zaboraviti pomnožiti sa 100!\n",
    "<li> Na temelju `Imax_za_zadani` i `Imin_za_zadani` izračunajte stupanj polarizacije reflektiranog snopa.\n",
    "<li> Promijenite položaj prijemnika tako da mjerite propušteni (transmitirani) snop.\n",
    "<li> Mijenjajući orijentaciju polarizatora, za zadani kut izmjerite najveći i najmanji propušteni intenzitet snopa. Upišite ih dolje ( `Imin_za_zadani` i  `Imax_za_zadani`). \n",
    "<li> Na temelju `Imax_za_zadani` i `Imin_za_zadani` izračunajte stupanj polarizacije propuštenog snopa.\n",
    "<li> Usporedite stupanj polarizacije propuštenog i reflektiranog snopa.\n",
    "</ul>\n",
    "</div>"
   ]
  },
  {
   "cell_type": "code",
   "execution_count": null,
   "metadata": {},
   "outputs": [],
   "source": [
    "zadanikut = 60     # Zadani kut, u stupnjevima\n",
    "# REFLEKSIJA ---------------------\n",
    "Imax_za_zadani = 86\n",
    "Imin_za_zadani = 31\n",
    "\n",
    "V_za_zadani =  ((Imax_za_zadani-Imin_za_zadani)/(Imax_za_zadani+Imin_za_zadani))*100     # Ovdje upišite izraz (2.30)\n",
    "\n",
    "print(\"stupanj polarizacije reflektiranog snopa: \", V_za_zadani)\n",
    "\n",
    "# TRANSMISIJA ---------------------\n",
    "Imax_za_zadani = 997\n",
    "Imin_za_zadani = 855\n",
    "\n",
    "\n",
    "V_za_zadani =  ((Imax_za_zadani-Imin_za_zadani)/(Imax_za_zadani+Imin_za_zadani))*100       # Ovdje upišite izraz (2.30)\n",
    "\n",
    "print(\"stupanj polarizacije transmitiranog snopa: \", V_za_zadani)"
   ]
  },
  {
   "cell_type": "code",
   "execution_count": null,
   "metadata": {},
   "outputs": [],
   "source": []
  },
  {
   "cell_type": "code",
   "execution_count": null,
   "metadata": {},
   "outputs": [],
   "source": []
  },
  {
   "cell_type": "code",
   "execution_count": null,
   "metadata": {},
   "outputs": [],
   "source": []
  },
  {
   "cell_type": "code",
   "execution_count": null,
   "metadata": {},
   "outputs": [],
   "source": []
  }
 ],
 "metadata": {
  "kernelspec": {
   "display_name": "Python 3",
   "language": "python",
   "name": "python3"
  },
  "language_info": {
   "codemirror_mode": {
    "name": "ipython",
    "version": 3
   },
   "file_extension": ".py",
   "mimetype": "text/x-python",
   "name": "python",
   "nbconvert_exporter": "python",
   "pygments_lexer": "ipython3",
   "version": "3.7.3"
  }
 },
 "nbformat": 4,
 "nbformat_minor": 2
}
