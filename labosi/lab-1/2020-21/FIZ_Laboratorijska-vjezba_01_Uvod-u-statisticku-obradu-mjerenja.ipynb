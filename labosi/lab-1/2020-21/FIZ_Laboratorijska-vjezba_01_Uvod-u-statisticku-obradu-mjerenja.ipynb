{
 "cells": [
  {
   "cell_type": "markdown",
   "metadata": {},
   "source": [
    "<img src=\"http://sail.zpf.fer.hr/Fizika-laboratorij/moodle/logo2020.png\" style=\"height: 70px;\">\n",
    "\n",
    "\n",
    "# Vježba 0: Uvod u statističku obradu mjerenja\n",
    "\n",
    "U ovoj vježbi ćete proći osnovne pojmove vezane uz mjerenja i njihovu nesigurnost, u obimu koji je potreban za uspješno savladavanje laboratorijskih vježbi iz Fizike.\n",
    "\n",
    "Kroz radnu bilježnicu ćete:\n",
    "* računati srednju vrijednost, varijancu i varijancu srednje vrijednosti skupa mjerenja, \n",
    "* provjeriti vezu opisnih statistika i parametara normalne (Gaussove) raspodjele,\n",
    "* računati očekivanu vrijednost i nesigurnost posredno mjerene fizikalne veličine,\n",
    "* pomoću metode najmanjih kvadrata odrediti parametare linearnog modela i njihove nesigurnosti. \n",
    "\n",
    "Za referentni tekst odabrana je publikacija JCGM-a (Joint Committee for Guides in Metrology) JCGM 100:2008 Vrednovanje mjernih podataka -- Upute za iskazivanje mjerne nesigurnosti (http://www.dzm.hr/_download/repository/mjerna_nesigurnost.pdf). \n",
    "\n",
    "\n",
    "\n",
    "## Prije nego što počnete:\n",
    "\n",
    "* Naredbe u ćeliji (koju ste odabrali) se izvršavaju pomoću **'Run'** gumba gore (▶︎) ili pomoću **'ctrl+Enter'**.\n",
    "* Prije nego što krenete dalje s vježbom, izvršite sljedeću ćeliju i učitajte potrebne biblioteke.\n",
    "\n",
    "## Što se od mene očekuje?\n",
    "\n",
    "* **Sve UPUTE** pažljivo čitajte i slijedite. \n",
    "* **Kod** za koji piše da 'Izvršite bez izmjena' **NIJE potrebno čitati.**\n",
    "* Samo na **nekoliko** označenih mjesta trebate upisivati svoj kod. Ostatak bilježnice je pripremljen.\n",
    "* Prođite 8 zadataka i unesite tražena rješenja u test <a href=\"https://moodle.fer.hr/mod/quiz/view.php?id=11691\"> Vježba 1 - Uvod u statističku obradu mjerenja</a> na moodle dijelu kolegija.\n",
    "* U svom terminu 1. laboratorijske vježbe potražite pomoć od asistenata (ne brinite, svima se dogodi da ne mogu pronaći gdje je greška). Budite spremni pokazati i diskutirati rezultate s asistentima."
   ]
  },
  {
   "cell_type": "markdown",
   "metadata": {},
   "source": [
    "#### Učitajte potrebne biblioteke"
   ]
  },
  {
   "cell_type": "code",
   "execution_count": 2,
   "metadata": {},
   "outputs": [],
   "source": [
    "%matplotlib inline\n",
    "import numpy as np\n",
    "import pandas as pd\n",
    "import matplotlib.pyplot as plt\n",
    "from scipy import stats\n",
    "import scipy\n",
    "import random"
   ]
  },
  {
   "cell_type": "markdown",
   "metadata": {},
   "source": [
    "---\n",
    "# 1. Srednja vrijednost i nesigurnost *N* mjerenja\n",
    "\n",
    "Uzmite da vam je zadatak izmjeriti neku fizikalnu veličinu $x$ te da ste napravili $N$ nezavisnih\\* mjerenja te veličine $x_i$.\n",
    "\n",
    "Iz mjerenih vrijednosti ćemo prvo izračunati dvije osnovne statistike\\*\\*: srednju vrijednost i varijancu skupa mjerenja. U drugom dijelu vidjet ćemo zašto se baš ove dvije mjere najčešće koriste i njihovu vezu s normalnom (Gaussovom) raspodjelom.\n",
    "\n",
    "#### Srednja vrijednost  $\\overline{x}$\n",
    "\n",
    "Najčešće korištena mjera lokacije skupa podataka je **Srednja vrijednost** $\\overline{x}$. Za $N$ mjerenja $x_i$  dana je izrazom\n",
    "\n",
    "$$ \\overline{x} = \\frac{1}{N}\\sum_{i=1}^{N}x_i$$\n",
    "\n",
    "\n",
    "#### Varijanca skupa mjerenja $s^2$\n",
    "\n",
    "Jedna od osnovnih mjera raspršenja za skup podataka (raspršenje skupa podataka oko srednje vrijednosti ili neke druge mjere lokacije) je **varijanca $s^2$ skupa podataka** $x_i$, koja je dana izrazom:\n",
    "\n",
    "$$ s^2 = \\frac{1}{N-1}\\sum_{i=1}^{N}(x_i-\\overline{x} )^2 $$\n",
    "\n",
    "#### Standardna devijacija skupa mjerenja $s$\n",
    "\n",
    "Iako je varijanca osnovnija veličina, uz srednju vrijednost skupa podataka uobičajeno je napisati korijen varijance $s$ koji se naziva i **standardna devijacija skupa podataka**, jer: izražava se u istim jedinicama kao i mjerena veličina, jednostavnije se uspoređuje sa srednjom vrijednosti $\\overline{x}$ i direktno je povezana s parametrom $\\sigma$ normalne razdiobe, tj. standardnom devijacijom.\n",
    "\n",
    "---\n",
    "  \\* Rezultat prethodnog mjerenja ne utječe na sljedeće mjerenje iste veličine.\n",
    "  \n",
    "  \\*\\* Statistika je bilo koja funkcija slučajnih varijabli uzorka. Odnose se samo na mjerenja, nije potrebno pretpostaviti model za mjerenu veličinu niti njezinu razdiobu."
   ]
  },
  {
   "cell_type": "markdown",
   "metadata": {},
   "source": [
    "### 1.1. U sljedeću ćeliju kopirajte* zadani skup mjerenja \n",
    "\n",
    "Svoj skup mjerenja pronaći ćete na **moodle** dijelu kolegija Fizika.  \n",
    "* U dijelu **Uvodna laboratorijska vježba**, \n",
    "* otvorite test **Vjezba 1 - Uvod u statističku obradu mjerenja**, \n",
    "* otvorite prvi zadatak i dolje kopirajte zadane podatke.\n",
    "---\n",
    "  \\* Kasnije ćemo podatke direktno učitavati. Sada želimo da vidite jednostavni primjer 'ručno' unesenih podataka."
   ]
  },
  {
   "cell_type": "code",
   "execution_count": 3,
   "metadata": {},
   "outputs": [],
   "source": [
    "# Kopirajte ovdje skup mjerenja koji vam je zadan\n",
    "# mojiPodatci = np.array([ ..ovdje vaša lista brojeva, npr. 1,2,3,.. ])\n",
    "mojiPodatci = np.array([ 15.301620202020203, 15.452286868686867, 15.405220202020203, 15.652320202020205, 15.38408686868687, 15.534920202020203,  \n",
    "15.515286868686871, 15.473253535353535, 15.411020202020202, 15.619520202020203, 15.478320202020202, 15.530086868686867, 15.525553535353534, 15.5035202020202, 15.532753535353537, 15.525686868686869, 15.571953535353535, 15.425853535353536,  \n",
    "15.423553535353536, 15.626853535353536, 15.388486868686869, 15.555720202020202, 15.399786868686867, 15.455553535353538, 15.562253535353536, 15.416253535353535, 15.456453535353536, 15.396553535353535, 15.607320202020201, 15.484353535353536   ])"
   ]
  },
  {
   "cell_type": "markdown",
   "metadata": {},
   "source": [
    "### 1.2. Sada sami napišite funkciju i izračunajte srednju vrijednost svog skupa podataka\n",
    "\n",
    "* Za račun srednje vrijednosti $ \\overline{x} = \\frac{1}{N}\\sum_{i=1}^{N}x_i$ možete upotrijebiti dvije metode: \n",
    "\n",
    "     * **`len`** za broj mjerenja u skupu\n",
    "     * **`sum`** za zbroj svih vrijednosti u skupu"
   ]
  },
  {
   "cell_type": "code",
   "execution_count": 4,
   "metadata": {},
   "outputs": [
    {
     "data": {
      "text/plain": [
       "30"
      ]
     },
     "execution_count": 4,
     "metadata": {},
     "output_type": "execute_result"
    }
   ],
   "source": [
    "# duljina liste:\n",
    "len(mojiPodatci)"
   ]
  },
  {
   "cell_type": "code",
   "execution_count": 5,
   "metadata": {},
   "outputs": [
    {
     "data": {
      "text/plain": [
       "464.61640606060615"
      ]
     },
     "execution_count": 5,
     "metadata": {},
     "output_type": "execute_result"
    }
   ],
   "source": [
    "# zbroj svih mjerenja:\n",
    "sum(mojiPodatci)"
   ]
  },
  {
   "cell_type": "markdown",
   "metadata": {},
   "source": [
    "<div style =  \"background-color:#cce698\">\n",
    "**Zadatak 1**: Izračunajte srednju vrijednost svog skupa podataka. Rezultat unesite u zadatak na moodle-u.\n",
    "</div>"
   ]
  },
  {
   "cell_type": "code",
   "execution_count": 7,
   "metadata": {},
   "outputs": [
    {
     "data": {
      "text/plain": [
       "15.487213535353538"
      ]
     },
     "execution_count": 7,
     "metadata": {},
     "output_type": "execute_result"
    }
   ],
   "source": [
    "# Ovdje sami napišite funkciju i izračunajte srednju vrijednost svog skupa podataka\n",
    "srednjaVrijednost = srednjaVrijednost = sum(mojiPodatci)/len(mojiPodatci)\n",
    "srednjaVrijednost # ispišite vrijednost"
   ]
  },
  {
   "cell_type": "markdown",
   "metadata": {},
   "source": [
    "### 1.3. Sami napišite funkciju i izračunajte varijancu svog skupa podataka\n",
    "\n",
    "* Za račun varijance skupa  $ s^2 = \\frac{1}{N-1}\\sum_{i=1}^{N}(x_i-\\overline{x} )^2 $  korisni će vam biti sljedeći primjeri računanja s numpy arrays: \n",
    "\n",
    "     * dodavanje/oduzimanje broja od np.array\n",
    "     * računske operacije s dva np.array (u ovom slučaju množenje)"
   ]
  },
  {
   "cell_type": "code",
   "execution_count": 8,
   "metadata": {},
   "outputs": [
    {
     "data": {
      "text/plain": [
       "array([115.3016202 , 115.45228687, 115.4052202 , 115.6523202 ,\n",
       "       115.38408687, 115.5349202 , 115.51528687, 115.47325354,\n",
       "       115.4110202 , 115.6195202 , 115.4783202 , 115.53008687,\n",
       "       115.52555354, 115.5035202 , 115.53275354, 115.52568687,\n",
       "       115.57195354, 115.42585354, 115.42355354, 115.62685354,\n",
       "       115.38848687, 115.5557202 , 115.39978687, 115.45555354,\n",
       "       115.56225354, 115.41625354, 115.45645354, 115.39655354,\n",
       "       115.6073202 , 115.48435354])"
      ]
     },
     "execution_count": 8,
     "metadata": {},
     "output_type": "execute_result"
    }
   ],
   "source": [
    "# Primjer: dodavanje konstantne vrijednosti\n",
    "mojiPodatci + 100."
   ]
  },
  {
   "cell_type": "code",
   "execution_count": 9,
   "metadata": {},
   "outputs": [
    {
     "data": {
      "text/plain": [
       "array([1764.30160101, 1784.00185634, 1777.84282967, 1810.22714791,\n",
       "       1775.07881565, 1794.82576589, 1792.25281349, 1786.7469285 ,\n",
       "       1778.60156387, 1805.92143154, 1787.41041648, 1794.19228502,\n",
       "       1793.59816611, 1790.71115886, 1794.54178593, 1793.61563961,\n",
       "       1799.68109044, 1780.54231083, 1780.24135719, 1806.88390495,\n",
       "       1775.65421498, 1797.55245121, 1777.13212247, 1784.42948862,\n",
       "       1798.40908863, 1779.2862266 , 1784.54730943, 1776.7092143 ,\n",
       "       1804.32046409, 1788.20055794])"
      ]
     },
     "execution_count": 9,
     "metadata": {},
     "output_type": "execute_result"
    }
   ],
   "source": [
    "# Primjer: množenje dva np.array\n",
    "(mojiPodatci + 100.)*mojiPodatci"
   ]
  },
  {
   "cell_type": "markdown",
   "metadata": {},
   "source": [
    "<div style =  \"background-color:#cce698\">\n",
    "**Zadatak 2**: Izračunajte varijancu i standardnu devijaciju svog skupa podataka.\n",
    "</div>"
   ]
  },
  {
   "cell_type": "code",
   "execution_count": 10,
   "metadata": {},
   "outputs": [
    {
     "data": {
      "text/plain": [
       "0.007100303938697341"
      ]
     },
     "execution_count": 10,
     "metadata": {},
     "output_type": "execute_result"
    }
   ],
   "source": [
    "# Ovdje sami napišite funkciju i izračunajte varijancu svog skupa podataka\n",
    "# Koristite prethodno izračunatu srednju vrijednost 'srednjaVrijednost', te oduzimanje broja od np.array, \n",
    "# množenje dva np.array i konačno sumu elemenata sum()\n",
    "odstupanje = (mojiPodatci - srednjaVrijednost)\n",
    "Varijanca = (sum(odstupanje*odstupanje))/(len(mojiPodatci)-1)\n",
    "Varijanca"
   ]
  },
  {
   "cell_type": "code",
   "execution_count": 11,
   "metadata": {},
   "outputs": [
    {
     "data": {
      "text/plain": [
       "0.08426330125681844"
      ]
     },
     "execution_count": 11,
     "metadata": {},
     "output_type": "execute_result"
    }
   ],
   "source": [
    "# Izračunajte standardnu devijaciju skupa, korijen od x je np.sqrt(x):\n",
    "StdDev = np.sqrt( Varijanca )\n",
    "StdDev # ispišite vrijednost"
   ]
  },
  {
   "cell_type": "markdown",
   "metadata": {},
   "source": [
    "### 1.4. Provjerite:\n",
    "* kako izgleda raspodjela vaših podataka \n",
    "* u kakvom su u odnosu s tom raspodjelom veličine koje ste upravo izračunali ('opisne statistike')\n",
    "\n",
    "Ako niste mijenjali imena varijabli gore (mojiPodatci, srednjaVrijednost, Varijanca), **NIJE potrebno raditi izmjene** u donjoj ćeliji."
   ]
  },
  {
   "cell_type": "code",
   "execution_count": 12,
   "metadata": {},
   "outputs": [
    {
     "data": {
      "image/png": "[encoded data removed]",
      "text/plain": [
       "<Figure size 648x432 with 1 Axes>"
      ]
     },
     "metadata": {
      "needs_background": "light"
     },
     "output_type": "display_data"
    }
   ],
   "source": [
    "# IZVRŠITE BEZ IZMJENA -------------\n",
    "\n",
    "broj_binova = 30\n",
    "fig, ax = plt.subplots(figsize=(9,6))\n",
    "x = mojiPodatci\n",
    "n, bins, vals = ax.hist(x, broj_binova, density=False)\n",
    "ax.set_xlabel('Srednja jačina potresa (bezdimenzionalno!)')\n",
    "ax.set_ylabel('Broj')\n",
    "ax.set_title('Histogram mjerenja')\n",
    "ymin, ymax = ax.get_ylim()  # Granice y-osi\n",
    "# lokacija srednje vrijednosti\n",
    "ax.axvline(srednjaVrijednost, linestyle='dashed',color='red')\n",
    "ax.text(srednjaVrijednost, ymax*0.7, r'$\\overline{x}$',ha='right', va='top',rotation=90, size=10)\n",
    "# mjera širine: korijen iz varijance\n",
    "desno = srednjaVrijednost+np.sqrt(Varijanca)\n",
    "ax.axvline(desno, linestyle='dotted',color='green')\n",
    "ax.text(desno, ymax*0.7, r'$\\overline{x}+s$',ha='right', va='top',rotation=90, size=10)\n",
    "lijevo = srednjaVrijednost-np.sqrt(Varijanca)\n",
    "ax.axvline(lijevo, linestyle='dotted',color='green')\n",
    "ax.text(lijevo, ymax*0.7, r'$\\overline{x}-s$',ha='right', va='top',rotation=90, size=10)\n",
    "plt.show()\n",
    "plt.close(fig)"
   ]
  },
  {
   "cell_type": "markdown",
   "metadata": {},
   "source": [
    "### 1.5. Varijanca srednje vrijednosti i zapis rezultata mjerenja\n",
    "\n",
    "Povećavanjem broja nezavisnih mjerenja neće se bitno mijenjati rasipanje (širina) skupa podataka, \n",
    "ali će srednja vrijednost biti sve bolje određena. Nesigurnost određivanja srednje vrijednosti veličine koju smo \n",
    "mjerili više puta zovemo **varijanca srednje \n",
    "vrijednosti skupa mjerenja** $s^2(\\overline{x})$:\n",
    "\n",
    "$$ s^2 (\\overline{x}) \n",
    "= \\frac{s^2}{N}\n",
    "= \\frac{1}{N(N-1)}\\sum_{i=1}^{N}(x_i-\\overline{x} )^2\n",
    "$$\n",
    "\n",
    "Kao i za varijancu skupa podataka,\n",
    "s rezultatom se obično daje **standradna devijacija srednje vrijednosti $s (\\overline{x}) $**, koja je korijen varijance srednje vrijednosti.\n",
    "\n",
    "\n",
    "### 1.6. Za direktno mjerene veličine određene iz niza mjerenja, na laboratorijskim vježbama će vaš rezultat biti zapisan:\n",
    "\n",
    "$x_\\mathrm{mjer.} = (\\overline{x} \\pm s(\\overline{x}))$  [mjerna jedinica] ,\n",
    "\n",
    "gdje je $s(\\overline{x}) = \\sqrt{\\mathrm{varijanca}(\\overline{x})}$, a $\\overline{x}$ i $s_x$ moraju biti zaokruženi do druge značajne znamenke od $s_x$.\n",
    "\n",
    "<br>\n",
    "<div style =  \"background-color:#cce698\">\n",
    "**Zadatak 3**: Prema gornjim uputama izračunajte i zapišite (na papir ili ovu radnu bilježnicu) rezultat za zadani skup mjerenja.\n",
    "</div>"
   ]
  },
  {
   "cell_type": "code",
   "execution_count": 13,
   "metadata": {},
   "outputs": [
    {
     "data": {
      "text/plain": [
       "0.015384303622737626"
      ]
     },
     "execution_count": 13,
     "metadata": {},
     "output_type": "execute_result"
    }
   ],
   "source": [
    "# Izračunajte standardnu devijaciju srednje vrijednosti, korijen od x je np.sqrt(x):\n",
    "StdDevSrednje = np.sqrt(Varijanca/len(mojiPodatci))\n",
    "StdDevSrednje # ispišite vrijednost"
   ]
  },
  {
   "cell_type": "markdown",
   "metadata": {},
   "source": [
    "---\n",
    "# 2. Normalna (Gaussova) raspodjela\n",
    "\n",
    "Da bi razumjeli izraze koje smo u prethodnom poglavlju koristili i brojeve koje smo dobili, kao polaznu točku koristimo model vjerojatnosti u klasičnoj interpretaciji ponavljanja mjerenja, gdje se smatra da je skup mjerenja uzorak uzet iz neke raspodjele. \n",
    "\n",
    "Ako varijabla $t$ ima normalnu raspodjelu s parametrima $\\mu$ i $\\sigma$, gustoća vjerojatnosti (vjerojatnost poprimanja određene vrijednosti $t$) je dana izrazom\n",
    "\n",
    "$$p(t) = \\frac{1}{\\sigma\\sqrt{2 \\pi}}\\exp\\left[-\\frac{1}{2}\\left(\\frac{t-\\mu}{\\sigma}\\right)^2\\right]$$\n",
    "\n",
    "gdje vrijedi $\\int p(t)dt = 1$.\n",
    "\n",
    "Mjerne nesigurnosti često slijede normalnu raspodjelu, jer nastaju kao rezultat male promjene većeg broja nasumičnih varijabli.\n",
    "\n",
    "\n",
    "### 2.1. Učitajte skup mjerenja\\*  \n",
    "\n",
    "Poveznicu na svoj skup mjerenja ćete pronaći u drugom zadatku na moodle testu. Poveznicu ili kopirajte ili samo očitajte i promijenite zadnji broj u imenu skupa podataka.\n",
    "\n",
    "\n",
    "\\* Podatci su prosječne jačine potresa na jednoj lokaciji u 50 dana. Izvor podataka: US Geological Survey"
   ]
  },
  {
   "cell_type": "code",
   "execution_count": 16,
   "metadata": {
    "scrolled": true
   },
   "outputs": [
    {
     "data": {
      "text/html": [
       "<div>\n",
       "<style scoped>\n",
       "    .dataframe tbody tr th:only-of-type {\n",
       "        vertical-align: middle;\n",
       "    }\n",
       "\n",
       "    .dataframe tbody tr th {\n",
       "        vertical-align: top;\n",
       "    }\n",
       "\n",
       "    .dataframe thead th {\n",
       "        text-align: right;\n",
       "    }\n",
       "</style>\n",
       "<table border=\"1\" class=\"dataframe\">\n",
       "  <thead>\n",
       "    <tr style=\"text-align: right;\">\n",
       "      <th></th>\n",
       "      <th>magnituda</th>\n",
       "    </tr>\n",
       "  </thead>\n",
       "  <tbody>\n",
       "    <tr>\n",
       "      <th>0</th>\n",
       "      <td>1.385847</td>\n",
       "    </tr>\n",
       "    <tr>\n",
       "      <th>1</th>\n",
       "      <td>1.537540</td>\n",
       "    </tr>\n",
       "    <tr>\n",
       "      <th>2</th>\n",
       "      <td>1.554878</td>\n",
       "    </tr>\n",
       "    <tr>\n",
       "      <th>3</th>\n",
       "      <td>1.527648</td>\n",
       "    </tr>\n",
       "    <tr>\n",
       "      <th>4</th>\n",
       "      <td>1.271002</td>\n",
       "    </tr>\n",
       "  </tbody>\n",
       "</table>\n",
       "</div>"
      ],
      "text/plain": [
       "   magnituda\n",
       "0   1.385847\n",
       "1   1.537540\n",
       "2   1.554878\n",
       "3   1.527648\n",
       "4   1.271002"
      ]
     },
     "execution_count": 16,
     "metadata": {},
     "output_type": "execute_result"
    }
   ],
   "source": [
    "# Ovdje kopirajte poveznicu s Vašim skupom podataka. \n",
    "# Poveznica je zadana u drugom zadatku na moodle dijelu kolegija.\n",
    "# Napomena: promjena je samo u zadnjem broju u imenu datoteke\n",
    "fname = \"http://sail.zpf.fer.hr/Fizika-laboratorij/moodle/Zad4-podaci/Zad4-skup5.txt\"\n",
    "\n",
    "# dalje IZVRŠITE BEZ IZMJENA -------------\n",
    "dataTablica = pd.read_csv(fname, delim_whitespace=True, header=None, names=['magnituda'],\n",
    "                         skipinitialspace=True, comment='#', error_bad_lines=False)\n",
    "dataTablica.head() # ispisujemo samo prvih 5 vrijednosti, da provjerimo je li učitavanje uspješno"
   ]
  },
  {
   "cell_type": "code",
   "execution_count": 17,
   "metadata": {},
   "outputs": [
    {
     "data": {
      "text/plain": [
       "2000"
      ]
     },
     "execution_count": 17,
     "metadata": {},
     "output_type": "execute_result"
    }
   ],
   "source": [
    "# provjerimo koliko podataka ima u skupu\n",
    "len(dataTablica)"
   ]
  },
  {
   "cell_type": "markdown",
   "metadata": {},
   "source": [
    "<div style =  \"background-color:#cce698\">\n",
    "**Zadatak 4**: Izračunajte srednju vrijednost i varijancu ovog skupa podataka.\n",
    "<br><br>\n",
    "Srednja vrijednost: $\\overline{x} = \\frac{1}{N}\\sum_{i=1}^{N}x_i$,  varijanca:  $ s^2 = \\frac{1}{N-1}\\sum_{i=1}^{N}(x_i-\\overline{x} )^2 $.\n",
    "</div>"
   ]
  },
  {
   "cell_type": "markdown",
   "metadata": {},
   "source": [
    "Koristite izraze analogne onima koje ste napisali za prethodni skup podataka.\n",
    "\n",
    "Kolona s mjerenjima `dataTablica.magnituda` je u sljedećoj ćeliji pridružena varijabli `x`, pa dalje možete računati s `x`."
   ]
  },
  {
   "cell_type": "code",
   "execution_count": 19,
   "metadata": {},
   "outputs": [
    {
     "data": {
      "text/plain": [
       "1.3595351737720458"
      ]
     },
     "execution_count": 19,
     "metadata": {},
     "output_type": "execute_result"
    }
   ],
   "source": [
    "x = dataTablica.magnituda # kolona s podatcima, racunajte dalje s x\n",
    "skupSrednja = sum(x)/len(x)\n",
    "skupSrednja"
   ]
  },
  {
   "cell_type": "code",
   "execution_count": 20,
   "metadata": {},
   "outputs": [
    {
     "data": {
      "text/plain": [
       "0.01630755570737256"
      ]
     },
     "execution_count": 20,
     "metadata": {},
     "output_type": "execute_result"
    }
   ],
   "source": [
    "skupVarijanca = sum((x-skupSrednja) * (x-skupSrednja)) / (len(x) - 1)\n",
    "skupVarijanca"
   ]
  },
  {
   "cell_type": "code",
   "execution_count": 21,
   "metadata": {},
   "outputs": [
    {
     "data": {
      "text/plain": [
       "0.12770104035352478"
      ]
     },
     "execution_count": 21,
     "metadata": {},
     "output_type": "execute_result"
    }
   ],
   "source": [
    "# izvršite bez izmjene\n",
    "np.sqrt(skupVarijanca) # standardna devijacija"
   ]
  },
  {
   "cell_type": "markdown",
   "metadata": {},
   "source": [
    "### 2.2. Nacrtajte histogram učitanih podataka\n",
    "\n",
    "Na isti plot je dodana normalna raspodjela s lokacijom (srednja vrijednost $\\mu$) i širinom (standardna devijacija $\\sigma$) određenima iz skupa podataka tako da je\n",
    "* za očekivanu vrijednost normalne raspodjele $\\mu$ uzeta srednja vrijednost skupa podataka $\\overline{x}$\n",
    "* za standardnu devijaciju normalne raspodjele $\\sigma$ uzet je korijen varijance skupa podataka $s$ (standardna devijacija skupa).\n",
    "\n",
    "### Uočite: Podatci prilično dobro slijede pretpostavljenu normalnu raspodjelu!"
   ]
  },
  {
   "cell_type": "code",
   "execution_count": 22,
   "metadata": {},
   "outputs": [
    {
     "data": {
      "image/png": "[encoded data removed]",
      "text/plain": [
       "<Figure size 648x432 with 1 Axes>"
      ]
     },
     "metadata": {
      "needs_background": "light"
     },
     "output_type": "display_data"
    },
    {
     "name": "stdout",
     "output_type": "stream",
     "text": [
      "srednja vrijednost =  1.3595351737720458   standardna devijacija =  0.12770104035352478\n"
     ]
    }
   ],
   "source": [
    "# IZVRŠITE BEZ IZMJENA -------------\n",
    "\n",
    "broj_binova = 70\n",
    "fig, ax = plt.subplots(figsize=(9,6))\n",
    "x = dataTablica.magnituda  # podatci\n",
    "histoALL, binsALL, patches = ax.hist(x, broj_binova, density=True, label='raspodjela\\n mjerenja\\n N = %d'%(len(x)), alpha=0.5, zorder=1)\n",
    "# pretpostavimo normalnu raspodjelu s parametrima: mu = srednji(x), sigma=s\n",
    "mu = skupSrednja; sigma = np.sqrt(skupVarijanca)\n",
    "y = scipy.stats.norm.pdf(binsALL, mu, sigma)\n",
    "ax.plot(binsALL, y, '--', label='normalna\\n raspodjela\\n $\\mu = \\overline{x}$ i $\\sigma=s$',color='black')\n",
    "ax.set_xlabel('Prosječna magnituda potresa')\n",
    "ax.set_ylabel('Normirani broj')\n",
    "ax.legend(loc='upper left', framealpha=0)\n",
    "plt.show()\n",
    "plt.close(fig)\n",
    "print(\"srednja vrijednost = \", mu,\"  standardna devijacija = \", sigma)"
   ]
  },
  {
   "cell_type": "markdown",
   "metadata": {},
   "source": [
    "### 2.3. Sada iz istog skupa podataka nasumično odaberite manje skupove podataka.\n",
    "\n",
    "<div style =  \"background-color:#cce698\">\n",
    "**Zadatak 5**: Provjerite kako izgledaju raspodjele manjih pod-skupova ovih podataka.\n",
    "</div>\n",
    "<br>\n",
    "* **PROMIJENITE** dolje broj za: **VelicinaNasumicnoOdabranogUzorka** \n",
    "\n",
    "* Probajte **sve** odabire od: **20, 50, 100, 300, 1000** podataka. Za svaki od tih odabira, ćeliju možete izvršiti nekoliko puta da vidite kako se rezultat mijenja s nasumičnim odabirom iz skupa.\n",
    "\n",
    "* Primjetite kada (za koje veličine odabranog podskupa) histogram počinje ličiti na Gaussovu raspodjelu."
   ]
  },
  {
   "cell_type": "code",
   "execution_count": 23,
   "metadata": {},
   "outputs": [
    {
     "data": {
      "image/png": "[encoded data removed]",
      "text/plain": [
       "<Figure size 648x432 with 1 Axes>"
      ]
     },
     "metadata": {
      "needs_background": "light"
     },
     "output_type": "display_data"
    }
   ],
   "source": [
    "VelicinaNasumicnoOdabranogUzorka = 30\n",
    "\n",
    "# DALJE IZVRŠITE BEZ IZMJENA -------------\n",
    "\n",
    "fig, ax = plt.subplots(figsize=(9,6))\n",
    "x = dataTablica.magnituda\n",
    "x = np.random.choice(x,VelicinaNasumicnoOdabranogUzorka)\n",
    "histo, bins, patches = ax.hist(x, broj_binova, density=True, label='raspodjela\\n mjerenja\\n N = %d'%(len(x)), alpha=0.5, zorder=1)\n",
    "y = scipy.stats.norm.pdf(bins, mu, sigma)\n",
    "ax.plot(bins, y, '--', label='normalna\\n raspodjela\\n $\\mu = \\overline{x}$ i $\\sigma=s$',color='black')\n",
    "ax.set_xlabel('Prosječna magnituda potresa')\n",
    "ax.set_ylabel('Normirani broj')\n",
    "ax.legend(loc='upper left', framealpha=0)\n",
    "plt.show()\n",
    "plt.close(fig)"
   ]
  },
  {
   "cell_type": "markdown",
   "metadata": {},
   "source": [
    "#### Upravo ste vidjeli ilustraciju **Centralnog graničnog teorema** \n",
    "\n",
    "Centralni granični teorem kaže da će niz slučajnih varijabli $x_i, i=1,...,N$ konvergirati normalnoj razdiobi kada $N$ teži u beskonačno. (https://en.wikipedia.org/wiki/Central_limit_theorem)"
   ]
  },
  {
   "cell_type": "markdown",
   "metadata": {},
   "source": [
    "### 2.4. Provjerite koliki udio skupa podataka ima vrijednost u intervalu $\\mu - \\sigma$  do  $\\mu + \\sigma$"
   ]
  },
  {
   "cell_type": "code",
   "execution_count": 24,
   "metadata": {},
   "outputs": [
    {
     "name": "stdout",
     "output_type": "stream",
     "text": [
      "binovi unutar kojih ćemo pobrojiti podatke:  27  -  48\n",
      "postotak podataka u zadanom intervalu =  67.80000000000001\n"
     ]
    }
   ],
   "source": [
    "# IZVRŠITE BEZ IZMJENA -------------\n",
    "\n",
    "# S normiranim histogramom (površina je 1) je lako izračunati udio skupa u zadanom intervalu\n",
    "bindolje = np.digitize(skupSrednja - np.sqrt(skupVarijanca),binsALL)\n",
    "bingore  = np.digitize(skupSrednja + np.sqrt(skupVarijanca),binsALL)\n",
    "print(\"binovi unutar kojih ćemo pobrojiti podatke: \",bindolje, \" - \",bingore)\n",
    "postotak = 100*np.sum(histoALL[bindolje:bingore] * np.diff(binsALL)[bindolje:bingore])\n",
    "print(\"postotak podataka u zadanom intervalu = \",postotak)"
   ]
  },
  {
   "cell_type": "markdown",
   "metadata": {},
   "source": [
    "#### Pogledajmo kako izgleda taj interval na grafu (osjenčano zeleno)."
   ]
  },
  {
   "cell_type": "code",
   "execution_count": 25,
   "metadata": {},
   "outputs": [
    {
     "data": {
      "image/png": "[encoded data removed]",
      "text/plain": [
       "<Figure size 864x432 with 1 Axes>"
      ]
     },
     "metadata": {
      "needs_background": "light"
     },
     "output_type": "display_data"
    }
   ],
   "source": [
    "# IZVRŠITE BEZ IZMJENA -------------\n",
    "\n",
    "fig, ax = plt.subplots(figsize=(12,6))\n",
    "x = dataTablica.magnituda  # podatci \n",
    "histoALL, binsALL, patches = ax.hist(x, broj_binova, density=False,label='svi podatci',alpha=0.5)\n",
    "# pretpostavimo normalnu raspodjelu s parametrima: mu = srednji(x), sigma=s\n",
    "mu = skupSrednja ; sigma = np.sqrt(skupVarijanca)\n",
    "normiranje = np.sum(histoALL * np.diff(binsALL))\n",
    "y = normiranje*scipy.stats.norm.pdf(binsALL, mu, sigma)\n",
    "ax.plot(binsALL, y, '--',color='black',lw=2)\n",
    "ax.set_xlabel('Prosječna magnituda potresa')\n",
    "ax.set_ylabel('Normirani broj')\n",
    "ymin, ymax = ax.get_ylim()  # Granice y-osi:\n",
    "# lokacija srednje vrijednosti\n",
    "ax.axvline(mu, linestyle='dashed',color='red')\n",
    "ax.text(mu, ymax*0.98, r'$\\mu$',ha='right', va='top',rotation=90, size=10)\n",
    "# mjera širine: korijen iz varijance\n",
    "desno = mu+sigma\n",
    "ax.axvline(desno, linestyle='dotted',color='green')\n",
    "ax.text(desno, ymax*0.98, r'$\\mu+\\sigma$',ha='right', va='top',rotation=90, size=10)\n",
    "lijevo = mu-sigma\n",
    "ax.axvline(lijevo, linestyle='dotted',color='green')\n",
    "ax.text(lijevo, ymax*0.98, r'$\\mu-\\sigma$',ha='right', va='top',rotation=90, size=10)\n",
    "# Dodajmo i oznacene binove:\n",
    "ax.hist(x, bins=binsALL[bindolje:bingore], density=False, label='unutar jedne standardne devijacije',color='green')\n",
    "ax.legend(loc='upper right')\n",
    "plt.show()\n",
    "plt.close(fig)"
   ]
  },
  {
   "cell_type": "markdown",
   "metadata": {},
   "source": [
    "#### Pronašli ste da se u intervalu vrijednosti   $\\mu\\pm\\sigma$ nalazi $\\sim 65-70\\%$ skupa\n",
    "\n",
    "Kada bi podatci točno slijedili normalnu raspodjelu s parametrima $\\mu$ i $\\sigma$, u intervalu \n",
    "* $(\\mu-\\sigma ,\\mu+\\sigma)$ nalazilo bi se **68.3%** podataka,\n",
    "* $(\\mu-2\\sigma ,\\mu+2\\sigma)$ nalazilo bi se **95.4%** podataka,\n",
    "* $(\\mu-3\\sigma ,\\mu+3\\sigma)$ nalazilo bi se **99.7%** podataka."
   ]
  },
  {
   "cell_type": "markdown",
   "metadata": {},
   "source": [
    "---\n",
    "# 3. Mjerna nesigurnost posredno mjerene veličine\n",
    "\n",
    "Često traženu veličinu $Y$ ne mjerimo direktno, već računamo iz poznate funkcijske ovisnosti $Y = f(X_1,...,X_n)$ o drugim veličinama $X_1,...,X_n$. Na primjer, volumen tijela (valjka) iz prve laboratorijske vježbe računa se iz izmjerene visine $h$ i promjera $d$:\n",
    "\n",
    "$$V = h\\pi \\left(\\frac{d}{2}\\right)^2$$\n",
    "\n",
    "#### Očekivana vrijednost\n",
    "Očekivanu vrijednost tražene veličine $y$ izračunamo iz očekivanih vrijednosti ulaznih veličina $x_1,...,x_n$: $y = f(x_1,...,x_n)$.\n",
    "\n",
    "U slučaju valjka, iz nekoliko mjerenja visine i promjera bi pronašli srednje vrijednosti $\\overline{d}$ i $\\overline{h}$ i njih smatrali očekivanim vrijednostima $d$ i $h$. Očekivani volumen bi izračunali pomoću tih vrijednosti.\n",
    "\n",
    "\n",
    "#### Mjerna nesigurnost\n",
    "Općenito jedna ili više tih drugih veličina $x_1,...,x_n$ imaju mjernu nesigurnost ($u (x_1),..., u(x_n)$), pa očekujemo da o preciznosti mjerenja ulaznih veličina ovisi preciznost konačnog rezultata. \n",
    "\n",
    "U slučaju valjka, nesigurnost mjerenja visine $u_h$ i promjera $u_d$ pronašli bi iz standardne devijacije srednje vrijednosti skupa mjerenja svake od tih veličina $u(d) = s(\\overline{d})$ i $u(h) = s(\\overline{h})$.\n",
    "\n",
    "Kombinirana nesigurnost posredno mjerenje veličine $u (y)$ nalazi se pomoću izraza\n",
    "\n",
    "$$u^2 (y) = \\sum_{i=1}^n \\left( \\frac{\\partial f}{\\partial x_i} \\right)^2 u^2 (x_i) \n",
    "\\ \\ \\ ,\\mathrm{gdje \\ je} \\ \\ \\ \\  \\ \\ \\ \\ \\ \n",
    "y = f(x_1,...,x_n) $$\n",
    "\n",
    "<br>\n",
    "<div style =  \"background-color:#cce698\">\n",
    "**Zadatak 6**: Primjenite račun nesigurnosti na zadanu funkcijsku ovisnost volumena o promjeru i visini valjka, za mjerenja promjera i visine koja su Vam zadana u moodle*testu.\n",
    "    \n",
    "Za pomoć pogledajte Primjer 5 u skripti iz laboratorijskih vježbi.\n",
    "</div>\n",
    "\n",
    "Pri računu se koristite kalkulatorom ili ovom radnom bilježnicom (novu ćeliju za račun dodajete pomoću '+').\n",
    "\n",
    "Zapišite (na papir ili u ovu radnu bilježnicu) konačni rezultat takvog posrednog mjerenja tražene veličine u standardnom obliku:\n",
    "<br>\n",
    "$y_\\mathrm{mjer.} = (\\overline{y} \\pm u_y)$  [mjerna jedinica].\n"
   ]
  },
  {
   "cell_type": "code",
   "execution_count": 30,
   "metadata": {},
   "outputs": [
    {
     "data": {
      "text/plain": [
       "(259.5768962459815, 1.697316004061646, 1.3028108090055308)"
      ]
     },
     "execution_count": 30,
     "metadata": {},
     "output_type": "execute_result"
    }
   ],
   "source": [
    "d = 5.565 \n",
    "ud = 0.011\n",
    "h = 10.672 \n",
    "uh = 0.033\n",
    "V = h * np.pi * d ** 2 / 4\n",
    "var_V = V*V * ((uh / h) ** 2 + (2 * ud / d) ** 2)\n",
    "std_V = np.sqrt(var_V)\n",
    "V, var_V, std_V"
   ]
  },
  {
   "cell_type": "markdown",
   "metadata": {},
   "source": [
    "---\n",
    "# 4. Linearni model i metoda najmanjih kvadrata\n",
    "\n",
    "\n",
    "Uzmite da imate skup mjerenja dvije varijable (npr. vrijeme i položaj) $x_i$ i $y_i$, s $i=1,...,N$, gdje je $N$ broj mjerenja. \n",
    "\n",
    "Ako **pretpostavite** da je model za mjerenja linearna ovisnost $y$ o $x$: \n",
    "$$y(x_i) = a + b x_i ,$$ \n",
    "koeficijente pravca $a$ i $b$ možete pronaći zahtjevanjem da suma kvadrata odstupanja predviđenih vrijednosti $y(x_i)$ od mjerenih vrijednosti $y_i$ (vertikalnih udaljenosti točaka od pravca) bude najmanja moguća:\n",
    "\n",
    "$$S^2 =\\sum_{i=1}^N [y_i -y(x_i)]^2 = \\sum_{i=1}^N [y_i - (a + b x_i)]^2 = \\mathrm{minimum}$$\n",
    "\n",
    "Koeficijenti pravca za koje je to zadovoljeno (minimiziraju S^2): \n",
    "$$\\frac{\\partial S^2}{\\partial a} = 0\\ \\ \\ \\mathrm{i} \\ \\ \\ \\frac{\\partial S^2}{\\partial b} = 0$$\n",
    "\n",
    "\n",
    "### 4.1. Koeficijenti pravca\n",
    "Kada riješimo ovaj sustav od dvije jednadžbe s dvije nepoznanice, dobijemo izraze za koeficijente (dalje podrazumijevamo da su sve sume za $i=1,...,N$):\n",
    "\n",
    "$$a = \\frac{\\sum x_i^2 \\sum y_i - \\sum x_i\\sum x_i y_i}{N \\sum x_i^2 - (\\sum x_i)^2}\n",
    "\\ \\ \\ , \\ \\ \\ \\ \\ \\ \n",
    "b = \\frac{N\\sum x_i y_i - \\sum x_i \\sum y_i }{N \\sum x_i^2 - (\\sum x_i)^2}$$\n",
    "\n",
    "\n",
    "<br>\n",
    "<div style =  \"background-color:#cce698\">\n",
    "**Zadatak 7**: Za zadane podatke ($x$ je vrijeme u sekundama, $y$ položaj u cm) izračunajte brzinu prilagodbom podataka na pravac metodom najmanjih kvadrata.\n",
    "</div>\n",
    "\n",
    "Svoj skup mjerenja pronaći ćete u svom moodle testu. \n",
    "\n",
    "U sljedeće dvije ćelije kopirajte zadane skupove $x$ i $y$ vrijednosti. "
   ]
  },
  {
   "cell_type": "code",
   "execution_count": 31,
   "metadata": {},
   "outputs": [],
   "source": [
    "# Ovdje kopirajte svoje podatke za x varijablu (vrijeme u s)\n",
    "# x_mjerenja = np.array([ ])\n",
    "x_mjerenja = np.array([2.0, 5.052631578947368, 8.105263157894736, 11.157894736842106,  \n",
    "\n",
    "14.210526315789474, 17.263157894736842, 20.315789473684212, 23.36842105263158,  \n",
    "\n",
    "26.42105263157895, 29.47368421052632, 32.526315789473685, 35.578947368421055,  \n",
    "\n",
    "38.631578947368425, 41.684210526315795, 44.73684210526316, 47.78947368421053,  \n",
    "\n",
    "50.8421052631579, 53.89473684210527, 56.94736842105264, 60.0  ])"
   ]
  },
  {
   "cell_type": "code",
   "execution_count": 32,
   "metadata": {},
   "outputs": [],
   "source": [
    "# Ovdje kopirajte svoje podatke za y varijablu (položaj u cm)\n",
    "# y_mjerenja = np.array([ ])\n",
    "y_mjerenja = np.array([23.170635566074665, 30.919397777153048, 56.18797171680749, 75.06846626249494,  \n",
    "\n",
    "87.42596153547822, 113.62209150478319, 123.74151339927076, 136.70234143621445,  \n",
    "\n",
    "156.2752407349329, 207.81913627449828, 202.0458961823364, 226.38996296160232,  \n",
    "\n",
    "231.02276276128893, 256.90063266200247, 267.82765090267367, 297.4947397640738,  \n",
    "\n",
    "296.6216038415195, 333.87538131285027, 345.16614633095315, 371.4484851965213 ])"
   ]
  },
  {
   "cell_type": "markdown",
   "metadata": {},
   "source": [
    "Pomoću prethodno izvedenih izraza\n",
    "$$a = \\frac{\\sum x_i^2 \\sum y_i - \\sum x_i\\sum x_i y_i}{N \\sum x_i^2 - (\\sum x_i)^2} \\ ,\n",
    "\\ \\ \\ \\ \\ \n",
    "b = \\frac{N\\sum x_i y_i - \\sum x_i \\sum y_i }{N \\sum x_i^2 - (\\sum x_i)^2}$$\n",
    "\n",
    "iz skupova podataka $x_i$ i $y_i$ izračunajte koeficijente pravca $a$ i $b$.\n",
    "\n",
    "Kada se piše program za računanje koeficijenata, uobičajeno je uvesti pokrate:\n",
    "\n",
    "$ \\mathrm{Sx} \\equiv \\sum x_i$, $ \\mathrm{Sy} \\equiv \\sum y_i$, $ \\mathrm{Sxy} \\equiv \\sum x_i y_i$, $ \\mathrm{Sx2} \\equiv \\sum x_i^2$, pa imamo:\n",
    "\n",
    "$$a = \\frac{\\mathrm{Sx2}\\cdot  \\mathrm{Sy} - \\mathrm{Sx} \\cdot \\mathrm{Sxy} }{N\\cdot \\mathrm{Sx2} - (\\mathrm{Sx})^2}\\ ,\n",
    "\\ \\ \\ \\ \\ \\ \\ \\\n",
    "b = \\frac{N \\cdot \\mathrm{Sxy} - \\mathrm{Sx} \\cdot \\mathrm{Sy} }{N\\cdot \\mathrm{Sx2} - (\\mathrm{Sx})^2}$$"
   ]
  },
  {
   "cell_type": "markdown",
   "metadata": {},
   "source": [
    "<div style =  \"background-color:#cce698\">\n",
    "**Zadatak 7a**: Izračunajte koeficijente $a$ i $b$.\n",
    "</div>"
   ]
  },
  {
   "cell_type": "code",
   "execution_count": 33,
   "metadata": {},
   "outputs": [],
   "source": [
    "# Ovdje napišite izraze za računanje a i b\n",
    "# Pri tome kao i prije možete koristiti funkcije \n",
    "# len(podatci), sum(podatci) i raditi računske operacije s\n",
    "# arrays, npr.  (podatci1-podatci2), (podatci - 5.0), (podatci*50) itd.\n",
    "# Dolje je već napisana pomoć za dvije pokrate (Sx2 i N).\n",
    "Sx = sum(x_mjerenja)\n",
    "Sy = sum(y_mjerenja)\n",
    "Sxy = sum(x_mjerenja * y_mjerenja)\n",
    "Sx2 = sum(x_mjerenja * x_mjerenja)\n",
    "N = len(x_mjerenja)"
   ]
  },
  {
   "cell_type": "code",
   "execution_count": 34,
   "metadata": {},
   "outputs": [
    {
     "name": "stdout",
     "output_type": "stream",
     "text": [
      "a = 6.353802, b = 5.988145\n"
     ]
    }
   ],
   "source": [
    "# Ovdje izračunajte i ispišite koeficijente a i b\n",
    "a = (Sx2 * Sy - Sx * Sxy) / (N * Sx2 - Sx**2)\n",
    "b = (N * Sxy - Sx * Sy) / (N * Sx2 - Sx ** 2)\n",
    "print(\"a = %f, b = %f\"%(a, b))"
   ]
  },
  {
   "cell_type": "code",
   "execution_count": 35,
   "metadata": {},
   "outputs": [
    {
     "data": {
      "image/png": "[encoded data removed]",
      "text/plain": [
       "<Figure size 720x360 with 1 Axes>"
      ]
     },
     "metadata": {
      "needs_background": "light"
     },
     "output_type": "display_data"
    }
   ],
   "source": [
    "#  NISU POTREBNE IZMJENE ! -----------------------------\n",
    "\n",
    "fig, ax = plt.subplots(figsize=(10,5))\n",
    "ax.plot(x_mjerenja,y_mjerenja,\"o\",label='podatci')  \n",
    "ax.plot(x_mjerenja, a + b*x_mjerenja,\n",
    "        \"--\",linewidth=3, label='najbolji pravac', zorder=10)  #pravac s dobivenim koeficijentima\n",
    "ax.set(xlabel='$t$ [s]', ylabel='$y(t)$ [cm]',\n",
    "       title='položaj u ovisnosti o vremenu')\n",
    "ax.legend(loc='lower right')\n",
    "plt.show()\n",
    "plt.close(fig)"
   ]
  },
  {
   "cell_type": "markdown",
   "metadata": {},
   "source": [
    "### 4.2. Nesigurnosti koeficijenata pravca\n",
    "\n",
    "Čak i veličine koje teorijski imaju savršenu međusobnu linearnu ovisnost, će zbog nesigurnosti u mjerenju imati odstupanja od pravca. Nesigurnost u određivanju parametara $a$ i $b$ pomoću pravila za nesigurnost posredno mjerenih veličina:\n",
    "\n",
    "$$ u_{a} = \\sum_i u_i^2\\left( \\frac{\\partial a}{\\partial y_i} \\right)^2, \\ \\ \\ \\\n",
    "u_{b} = \\sum_i u_i^2\\left( \\frac{\\partial b}{\\partial y_i} \\right)^2 \\ ,$$ \n",
    "\n",
    "gdje je $u_i$ mjerna nesigurnost $i-$tog mjerenja.  \n",
    "Deriviranjem gornjih izraza za $a$ i $b$ po $y_i$ i sumiranjem po svim $i$ dobivamo izraze:\n",
    "\n",
    "$$u_a^2 = s^2 \\frac{\\sum x_i^2}{N\\sum x_i^2 -(\\sum x_i)^2}\\ ,\n",
    "\\ \\ \\ \\ \\ \\ \n",
    "u_b^2 = s^2 \\frac{N}{N\\sum x_i^2 -(\\sum x_i)^2} \\ \\ \\ \\ ,\\mathrm{gdje\\ je} \n",
    "\\ \\ \\ \\ \\ \\ \n",
    "s^2 = \\frac{\\sum_i (y_i - a - b x_i)^2}{N-2}.\n",
    "$$\n",
    "\n",
    "Ovi izrazi su napisani uz pretpostavke koje su detaljnije objašnjene u uvodnom poglavlju u skripti.\n",
    "\n",
    "<br>\n",
    "<div style =  \"background-color:#cce698\">\n",
    "**Zadatak 7b**: Izračunajte nesigurnosti koeficijenata $u_a$ i $u_b$.\n",
    "<br>Pomoć:\n",
    "<br> --- Izraz za $s^2$ je već dolje napisan: $s^2 =$ `var2` .\n",
    "<br> --- Nazivnici u izrazima za $u_a$ i $u_b$ jednaki su nazivnicima u izrazima za a i b koje ste već napisali.\n",
    "<br>\n",
    "</div>"
   ]
  },
  {
   "cell_type": "code",
   "execution_count": 37,
   "metadata": {},
   "outputs": [
    {
     "name": "stdout",
     "output_type": "stream",
     "text": [
      "u_a = 3.875548, u_b = 0.108714\n",
      "a = 6.353802, b = 5.988145\n"
     ]
    }
   ],
   "source": [
    "# ---- !! POTREBNE SU IZMJENE !! -------------\n",
    "\n",
    "# Ovdje je izračunata varijance mjerenja s^2 = var2:\n",
    "zagrada = y_mjerenja - a - b*x_mjerenja\n",
    "var2 = sum(zagrada*zagrada)/(N-2)\n",
    "\n",
    "# Pomoću var2 i prethodno definiranih Sx, Sx2, N izračunajte kvadrate\n",
    "# nesigurnosti koeficijenata pravca (var_a = u_a^2  i  var_b = u_b^2)\n",
    "# HINT: Nazivnik je jednak nazivniku u izrazima za a i b koje ste već napisali\n",
    "var_a = var2* Sx2 / (N * Sx2 - Sx**2)\n",
    "var_b = var2* N / (N * Sx2 - Sx ** 2)\n",
    "\n",
    "# DALJE NISU POTREBNE IZMJENE -------------\n",
    "\n",
    "u_a = np.sqrt(var_a)\n",
    "u_b = np.sqrt(var_b)\n",
    "\n",
    "# Ispišite vrijednosti za nesigurnost parametara a i b:\n",
    "print(\"u_a = %f, u_b = %f\"%(u_a, u_b))\n",
    "# i ponovo parametre a i b:\n",
    "print(\"a = %f, b = %f\"%(a, b))"
   ]
  },
  {
   "cell_type": "markdown",
   "metadata": {},
   "source": [
    "Ovo je vrijednost koju ste dobili za mjeru rasipanja $y_i$ vrijednosti oko pravca:"
   ]
  },
  {
   "cell_type": "code",
   "execution_count": 38,
   "metadata": {},
   "outputs": [
    {
     "data": {
      "text/plain": [
       "8.558006044058876"
      ]
     },
     "execution_count": 38,
     "metadata": {},
     "output_type": "execute_result"
    }
   ],
   "source": [
    "#  NISU POTREBNE IZMJENE ! -----------------------------\n",
    "np.sqrt(var2)"
   ]
  },
  {
   "cell_type": "markdown",
   "metadata": {},
   "source": [
    "### 4.2. Možemo još provjeriti je li naša pretpostavka da odstupanja od pravca slijede normalnu raspodjelu dovoljno dobra\n",
    "Nacrtati ćemo \n",
    "* raspodjelu odstupanja mjerenih $y_i$ vrijednosti od pravca:    $\\,\\,\\, y_i - (a+b\\cdot x_i)$\n",
    "* normalnu raspodjelu s lokacijom $\\mu=0$ i širinom $\\sigma=s$\n",
    "\n",
    "($\\mu=0$ označava da očekujemo sličnu količinu ukupnog odstupanja ispod i iznad pravca. $\\sigma=s$ označava da vrijednost $s$ mjeri širinu rasipanja oko pravca.)"
   ]
  },
  {
   "cell_type": "code",
   "execution_count": 39,
   "metadata": {},
   "outputs": [
    {
     "data": {
      "image/png": "[encoded data removed]",
      "text/plain": [
       "<Figure size 576x360 with 1 Axes>"
      ]
     },
     "metadata": {
      "needs_background": "light"
     },
     "output_type": "display_data"
    }
   ],
   "source": [
    "#  NISU POTREBNE IZMJENE ! -----------------------------\n",
    "broj_binova = 30\n",
    "fig, ax = plt.subplots(figsize=(8,5))\n",
    "odstupanja = y_mjerenja - a - b*x_mjerenja\n",
    "n, bins, patches = ax.hist(odstupanja, broj_binova, density=True, alpha=0.5, zorder=1)\n",
    "y = scipy.stats.norm.pdf(bins, 0, np.sqrt(var2))\n",
    "ax.plot(bins, y, '--',color='black')\n",
    "ax.set_xlabel('Odstupanje od pravca')\n",
    "ax.set_ylabel('Normirani broj')\n",
    "ax.set_title(r'Histogram odstupanja od pravca u y-smjeru')\n",
    "plt.show()\n",
    "plt.close(fig)"
   ]
  },
  {
   "cell_type": "markdown",
   "metadata": {},
   "source": [
    "---\n",
    "# 5. Provjera valjanosti modela, drugi modeli (osim linearnog)\n",
    "\n",
    "**AKO** model dobro opisuje točke, moralo bi vrijediti:\n",
    "\n",
    "* **U prosjeku** svaka točka $y_i$ od krivulje $y = f(x_i)$ odstupa (vertikalna udaljenost!) u iznosu svoje mjerne nesigurnosti $u_i$, koju je potrebno procjeniti za sve točke (npr. iz rezolucije instrumenta ili kao standardnu devijaciju ponovljenih mjerenja). \n",
    "*     Dakle, omjer odstupanja i nesigurnosti $[y(x_i) - y_i]/u_i$ ne bi smio biti (puno) veći od 1 za svaku točku.\n",
    "*     Kada se zbroje kvadrati (da svaka bude pozitivna veličina) ovih omjera odstupanja, rezultat ne bi smio biti puno veći od broja točaka $N$.\n",
    "*     Uvodi se suma (čita se hi-kvadrat): $$\\chi^2 = \\sum_{i=1}^N\\left( \\frac{ a + b x_i + c x_i^2 - y_i}{u_i}\\right)^2$$ \n",
    "*     Dodavanjem slobodnih parametara (npr. povećanjem stupnja polinoma) u principu bi mogli provući krivulju kroz svaku točku, zato uspoređujemo $\\chi^2$ s **brojem stupnjeva slobode** (eng. degrees of freedom), **d.o.f.**: $$d.o.f. = N -k,$$ gdje je $k$ broj parametara krivulje. Za linearnu funkcijsku ovisnost  $k = 2$ (parametri su odsječak i nagib pravca), za polinom drugog stupnja $k = 3$, itd. \n",
    "*     Uobičajeno je **REDUCIRANI hi-kvadrat**: $$\\chi_{red}^2 = \\chi^2 /d.o.f.$$ **uspoređivati s 1** i grubo pravilo je:\n",
    "        * $\\chi_{red}^2 \\gg 1$ -- model nije prihvatljiv opis točaka ili su nesigurnosti podcijenjene\n",
    "        * $\\chi_{red}^2 \\lesssim 1$ -- model je prihvatljiv opis točaka\n",
    "        * $\\chi_{red}^2 \\ll 1$ -- model previše dobro opisuje točke, moguće je da treba smanjiti broj slobodnih parametara ili su mjerne nesigurnosti precijenjene.\n",
    "        \n",
    "            \n",
    "Do sada smo koristili izraze iz uvodnog poglavlja skripte pomoću kojih se 'ručno' mogu izračunati parametri $a$ i $b$ i njihove nesiguronosti $u_a$ i $u_b$ za linearni model i prilagodbu metodom najmanjih kvadrata. Dalje ćemo koristiti `polyfit`, jednu od mnogih metoda koje postoje na raspolaganju u `numpy` i usporediti linerani i kvadratični model za skup mjerenja gibanja kolica na vježbi 2.2.\n",
    "\n",
    "Učitajte skup mjerenja vremena i položaja kolica u laboratoriju. Nesigurnost mjerenja položaja procijenjena je na 200 jedinica koje mjeri arduino, što preračunavamo u (200*0.034/2) cm."
   ]
  },
  {
   "cell_type": "code",
   "execution_count": 40,
   "metadata": {},
   "outputs": [
    {
     "data": {
      "text/html": [
       "<div>\n",
       "<style scoped>\n",
       "    .dataframe tbody tr th:only-of-type {\n",
       "        vertical-align: middle;\n",
       "    }\n",
       "\n",
       "    .dataframe tbody tr th {\n",
       "        vertical-align: top;\n",
       "    }\n",
       "\n",
       "    .dataframe thead th {\n",
       "        text-align: right;\n",
       "    }\n",
       "</style>\n",
       "<table border=\"1\" class=\"dataframe\">\n",
       "  <thead>\n",
       "    <tr style=\"text-align: right;\">\n",
       "      <th></th>\n",
       "      <th>t</th>\n",
       "      <th>x</th>\n",
       "    </tr>\n",
       "  </thead>\n",
       "  <tbody>\n",
       "    <tr>\n",
       "      <th>438</th>\n",
       "      <td>4.018459</td>\n",
       "      <td>14.535</td>\n",
       "    </tr>\n",
       "    <tr>\n",
       "      <th>439</th>\n",
       "      <td>4.018862</td>\n",
       "      <td>14.841</td>\n",
       "    </tr>\n",
       "    <tr>\n",
       "      <th>440</th>\n",
       "      <td>4.051589</td>\n",
       "      <td>14.739</td>\n",
       "    </tr>\n",
       "    <tr>\n",
       "      <th>441</th>\n",
       "      <td>4.052070</td>\n",
       "      <td>15.045</td>\n",
       "    </tr>\n",
       "    <tr>\n",
       "      <th>442</th>\n",
       "      <td>4.084673</td>\n",
       "      <td>15.759</td>\n",
       "    </tr>\n",
       "  </tbody>\n",
       "</table>\n",
       "</div>"
      ],
      "text/plain": [
       "            t       x\n",
       "438  4.018459  14.535\n",
       "439  4.018862  14.841\n",
       "440  4.051589  14.739\n",
       "441  4.052070  15.045\n",
       "442  4.084673  15.759"
      ]
     },
     "execution_count": 40,
     "metadata": {},
     "output_type": "execute_result"
    }
   ],
   "source": [
    "#  NISU POTREBNE IZMJENE ! -----------------------------\n",
    "prefix = \"http://sail.zpf.fer.hr/\"\n",
    "#prefix = \"\"\n",
    "fname = prefix+\"Fizika-laboratorij/mozda_kvadratno1.txt\"\n",
    "tabl5_1 = pd.read_csv(fname, delim_whitespace=True, header=None, names=['t','x'],\n",
    "                         skipinitialspace=True, comment='#', error_bad_lines=False,skiprows=1)\n",
    "tabl5_1.head() # ispisujemo samo prvih 5 vrijednosti, da provjerimo da li je učitavanje uspješno"
   ]
  },
  {
   "cell_type": "markdown",
   "metadata": {},
   "source": [
    "### 5.1. Možemo li mjerenja opisati linearnom ovisnošću prijeđenog puta o vremenu (pravcem)?\n",
    "\n",
    "Provjerimo kako mjerenja opisuje model $y(x_i) = a + b x_i$."
   ]
  },
  {
   "cell_type": "code",
   "execution_count": 41,
   "metadata": {},
   "outputs": [
    {
     "data": {
      "image/png": "[encoded data removed]",
      "text/plain": [
       "<Figure size 720x360 with 1 Axes>"
      ]
     },
     "metadata": {
      "needs_background": "light"
     },
     "output_type": "display_data"
    },
    {
     "name": "stdout",
     "output_type": "stream",
     "text": [
      "koeficijent uz x =  36.1266405667615  ±  0.4637008934401274\n",
      "odsječak         =  -134.599096494231  ±  2.202840141549774\n",
      "chi2/d.o.f.= 7.471905573125023\n"
     ]
    }
   ],
   "source": [
    "#  NISU POTREBNE IZMJENE ! -----------------------------\n",
    "u_y = (200*0.034/2.)/np.sqrt(24) # Arduino vrijednost=100, pretvorena u cm, pretpostavka uniformne raspodjele\n",
    "StupanjPolinoma = 1\n",
    "x = np.array(tabl5_1.t)\n",
    "y = np.array(tabl5_1.x)\n",
    "par1, kov1 = np.polyfit(x, y, StupanjPolinoma, cov=True)\n",
    "fig, ax = plt.subplots(figsize=(10,5))\n",
    "ax.errorbar(x,y,yerr=u_y,fmt=\"o\",label='podatci',alpha=0.7)\n",
    "polinom = np.poly1d(par1)\n",
    "ax.plot(x,polinom(x),\"--\",linewidth=2, color='red',label='model: pravac', zorder=10)\n",
    "ax.set(xlabel='$t$ (s))', ylabel='$x$ (cm)',title='')\n",
    "ax.legend(loc='lower right')\n",
    "plt.show()\n",
    "plt.close(fig)\n",
    "print(\"koeficijent uz x = \",par1[0],\" ± \",  np.sqrt(kov1[0][0]))\n",
    "print(\"odsječak         = \",par1[1],\" ± \",  np.sqrt(kov1[1][1]))\n",
    "chi2_red = sum(((polinom(x) - y)/u_y)**2)/(len(x)-StupanjPolinoma-1)\n",
    "print(\"chi2/d.o.f.=\",chi2_red)"
   ]
  },
  {
   "cell_type": "markdown",
   "metadata": {},
   "source": [
    "<div style =  \"background-color:#cce698\">\n",
    "**Zadatak 8a**: Što zaključujete o modelu linearne ovisnosti $y$ o $x$ na temelju gornjeg grafa i $\\chi^2_{red}$?\n",
    "</div>"
   ]
  },
  {
   "cell_type": "markdown",
   "metadata": {},
   "source": [
    "--> Već je okom vidljivo da to nije dobar model, a reducirani $\\chi^2$ puno veći od 1 nam daje numeričku vrijednost na kojoj možemo temeljiti ovaj zaključak."
   ]
  },
  {
   "cell_type": "markdown",
   "metadata": {},
   "source": [
    "### 5.2. Možemo li mjerenja opisati kvadratnom ovisnošću prijeđenog puta o vremenu (parabola, tj. polinom drugog stupnja)?\n",
    "\n",
    "Provjerimo kako model $y(x_i) = a + b x_i + c x_i^2$ opisuje mjerenja."
   ]
  },
  {
   "cell_type": "markdown",
   "metadata": {},
   "source": [
    "<div style =  \"background-color:#cce698\">\n",
    "**Zadatak 8b**: Provjerite koliko dobro parabola opisuje mjerenja. Ima li poboljšanja u odnosu na pravac?\n",
    "</div>"
   ]
  },
  {
   "cell_type": "code",
   "execution_count": 42,
   "metadata": {},
   "outputs": [
    {
     "data": {
      "image/png": "[encoded data removed]",
      "text/plain": [
       "<Figure size 720x360 with 1 Axes>"
      ]
     },
     "metadata": {
      "needs_background": "light"
     },
     "output_type": "display_data"
    },
    {
     "name": "stdout",
     "output_type": "stream",
     "text": [
      "koeficijent uz x**2 =  11.526587192591322  ±  0.28703788732601987\n",
      "koeficijent uz x    =  -72.97127986468576  ±  2.7189192493037084\n",
      "odsječak            =  121.49848713960534  ±  6.3979169883597855\n",
      "chi2/d.o.f.= 0.4035106508310531\n"
     ]
    }
   ],
   "source": [
    "#  NISU POTREBNE IZMJENE ! -----------------------------\n",
    "StupanjPolinoma = 2\n",
    "x = np.array(tabl5_1.t)\n",
    "y = np.array(tabl5_1.x)\n",
    "par1, kov1 = np.polyfit(x, y, StupanjPolinoma, cov=True)\n",
    "fig, ax = plt.subplots(figsize=(10,5))\n",
    "ax.errorbar(x,y,yerr=u_y,fmt=\"o\",label='podatci',alpha=0.7)\n",
    "polinom = np.poly1d(par1)\n",
    "ax.plot(x,polinom(x),\"--\",linewidth=2, label='model: parabola', zorder=10,color='red')\n",
    "ax.set(ylabel='$t$ (s)',\n",
    "    xlabel='$x$ (cm)',\n",
    "    title='')\n",
    "ax.legend(loc='lower right')\n",
    "plt.show()\n",
    "plt.close(fig)\n",
    "print(\"koeficijent uz x**2 = \",par1[0],\" ± \",  np.sqrt(kov1[0][0]))\n",
    "print(\"koeficijent uz x    = \",par1[1],\" ± \",  np.sqrt(kov1[1][1]))\n",
    "print(\"odsječak            = \",par1[2],\" ± \",  np.sqrt(kov1[2][2]))\n",
    "chi2_red = sum(((polinom(x) - y)/u_y)**2)/(len(x)-StupanjPolinoma-1)\n",
    "print(\"chi2/d.o.f.=\",chi2_red)"
   ]
  },
  {
   "cell_type": "markdown",
   "metadata": {},
   "source": [
    "--> Okom je vidljivo da to prilično dobar model.\n",
    "\n",
    "--> Da li dobivena vrijednost reduciranog $\\chi^2$ opravdava uvođenje još jednog parametra, odnosno povećanje stupnja polinoma za funkciju prilagodbe?"
   ]
  }
 ],
 "metadata": {
  "kernelspec": {
   "display_name": "Python 3",
   "language": "python",
   "name": "python3"
  },
  "language_info": {
   "codemirror_mode": {
    "name": "ipython",
    "version": 3
   },
   "file_extension": ".py",
   "mimetype": "text/x-python",
   "name": "python",
   "nbconvert_exporter": "python",
   "pygments_lexer": "ipython3",
   "version": "3.6.8"
  }
 },
 "nbformat": 4,
 "nbformat_minor": 4
}
